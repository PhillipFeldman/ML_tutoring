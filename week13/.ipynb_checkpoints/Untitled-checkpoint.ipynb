{
 "cells": [
  {
   "cell_type": "code",
   "execution_count": 1,
   "id": "2e20b3de",
   "metadata": {},
   "outputs": [],
   "source": [
    "#!conda install -c conda-forge opencv"
   ]
  },
  {
   "cell_type": "code",
   "execution_count": 1,
   "id": "579cb3cf",
   "metadata": {},
   "outputs": [],
   "source": [
    "import os\n",
    "import numpy as np"
   ]
  },
  {
   "cell_type": "code",
   "execution_count": 2,
   "id": "d12ec39a",
   "metadata": {},
   "outputs": [],
   "source": [
    "import cv2\n",
    "IMGSIZE = (128, 128)\n",
    "CNAMES = ['buildings', 'forest', 'glacier', 'mountain', 'sea', 'street']\n",
    "X_tr, y_tr, X_ts, y_ts = [], [], [], []\n",
    "for label in CNAMES:\n",
    "    path = \".\" + '/seg_train/seg_train/' + label\n",
    "    for f in sorted([_ for _ in os.listdir(path) if _.lower().endswith('.jpg')]):\n",
    "        X_tr += [cv2.resize(cv2.imread(os.path.join(path,f)), IMGSIZE)]\n",
    "        y_tr += [CNAMES.index(label)]"
   ]
  },
  {
   "cell_type": "code",
   "execution_count": null,
   "id": "c9bc3511",
   "metadata": {},
   "outputs": [],
   "source": []
  },
  {
   "cell_type": "code",
   "execution_count": null,
   "id": "6c62d6e6",
   "metadata": {},
   "outputs": [],
   "source": []
  },
  {
   "cell_type": "code",
   "execution_count": null,
   "id": "1e2da369",
   "metadata": {},
   "outputs": [],
   "source": []
  },
  {
   "cell_type": "code",
   "execution_count": null,
   "id": "dca8ad93",
   "metadata": {},
   "outputs": [],
   "source": []
  },
  {
   "cell_type": "code",
   "execution_count": 3,
   "id": "178fef55",
   "metadata": {},
   "outputs": [
    {
     "ename": "error",
     "evalue": "OpenCV(4.7.0) D:\\a\\opencv-python\\opencv-python\\opencv\\modules\\highgui\\src\\window_w32.cpp:1261: error: (-27:Null pointer) NULL window: 'i' in function 'cvDestroyWindow'\n",
     "output_type": "error",
     "traceback": [
      "\u001b[1;31m---------------------------------------------------------------------------\u001b[0m",
      "\u001b[1;31merror\u001b[0m                                     Traceback (most recent call last)",
      "Cell \u001b[1;32mIn[3], line 3\u001b[0m\n\u001b[0;32m      1\u001b[0m cv2\u001b[38;5;241m.\u001b[39mimshow(\u001b[38;5;124m'\u001b[39m\u001b[38;5;124mi\u001b[39m\u001b[38;5;124m'\u001b[39m,np\u001b[38;5;241m.\u001b[39marray(X_tr[\u001b[38;5;241m0\u001b[39m] ,dtype\u001b[38;5;241m=\u001b[39mnp\u001b[38;5;241m.\u001b[39muint8))\n\u001b[0;32m      2\u001b[0m cv2\u001b[38;5;241m.\u001b[39mwaitKey(\u001b[38;5;241m0\u001b[39m)\n\u001b[1;32m----> 3\u001b[0m \u001b[43mcv2\u001b[49m\u001b[38;5;241;43m.\u001b[39;49m\u001b[43mdestroyWindow\u001b[49m\u001b[43m(\u001b[49m\u001b[38;5;124;43m'\u001b[39;49m\u001b[38;5;124;43mi\u001b[39;49m\u001b[38;5;124;43m'\u001b[39;49m\u001b[43m)\u001b[49m\n",
      "\u001b[1;31merror\u001b[0m: OpenCV(4.7.0) D:\\a\\opencv-python\\opencv-python\\opencv\\modules\\highgui\\src\\window_w32.cpp:1261: error: (-27:Null pointer) NULL window: 'i' in function 'cvDestroyWindow'\n"
     ]
    }
   ],
   "source": [
    "cv2.imshow('i',np.array(X_tr[0] ,dtype=np.uint8))\n",
    "cv2.waitKey(0)\n",
    "cv2.destroyWindow('i')"
   ]
  },
  {
   "cell_type": "code",
   "execution_count": 5,
   "id": "b18440f0",
   "metadata": {},
   "outputs": [
    {
     "ename": "error",
     "evalue": "OpenCV(4.7.0) D:\\a\\opencv-python\\opencv-python\\opencv\\modules\\highgui\\src\\window_w32.cpp:1261: error: (-27:Null pointer) NULL window: 'i' in function 'cvDestroyWindow'\n",
     "output_type": "error",
     "traceback": [
      "\u001b[1;31m---------------------------------------------------------------------------\u001b[0m",
      "\u001b[1;31merror\u001b[0m                                     Traceback (most recent call last)",
      "Cell \u001b[1;32mIn[5], line 3\u001b[0m\n\u001b[0;32m      1\u001b[0m cv2\u001b[38;5;241m.\u001b[39mimshow(\u001b[38;5;124m'\u001b[39m\u001b[38;5;124mi\u001b[39m\u001b[38;5;124m'\u001b[39m,np\u001b[38;5;241m.\u001b[39marray(X_tr[\u001b[38;5;241m1\u001b[39m] ,dtype\u001b[38;5;241m=\u001b[39mnp\u001b[38;5;241m.\u001b[39muint8))\n\u001b[0;32m      2\u001b[0m cv2\u001b[38;5;241m.\u001b[39mwaitKey(\u001b[38;5;241m0\u001b[39m)\n\u001b[1;32m----> 3\u001b[0m \u001b[43mcv2\u001b[49m\u001b[38;5;241;43m.\u001b[39;49m\u001b[43mdestroyWindow\u001b[49m\u001b[43m(\u001b[49m\u001b[38;5;124;43m'\u001b[39;49m\u001b[38;5;124;43mi\u001b[39;49m\u001b[38;5;124;43m'\u001b[39;49m\u001b[43m)\u001b[49m\n",
      "\u001b[1;31merror\u001b[0m: OpenCV(4.7.0) D:\\a\\opencv-python\\opencv-python\\opencv\\modules\\highgui\\src\\window_w32.cpp:1261: error: (-27:Null pointer) NULL window: 'i' in function 'cvDestroyWindow'\n"
     ]
    }
   ],
   "source": [
    "cv2.imshow('i',np.array(X_tr[1] ,dtype=np.uint8))\n",
    "cv2.waitKey(0)\n",
    "cv2.destroyWindow('i')"
   ]
  },
  {
   "cell_type": "code",
   "execution_count": 6,
   "id": "fb7efccf",
   "metadata": {},
   "outputs": [
    {
     "ename": "error",
     "evalue": "OpenCV(4.7.0) D:\\a\\opencv-python\\opencv-python\\opencv\\modules\\highgui\\src\\window_w32.cpp:1261: error: (-27:Null pointer) NULL window: 'i' in function 'cvDestroyWindow'\n",
     "output_type": "error",
     "traceback": [
      "\u001b[1;31m---------------------------------------------------------------------------\u001b[0m",
      "\u001b[1;31merror\u001b[0m                                     Traceback (most recent call last)",
      "Cell \u001b[1;32mIn[6], line 3\u001b[0m\n\u001b[0;32m      1\u001b[0m cv2\u001b[38;5;241m.\u001b[39mimshow(\u001b[38;5;124m'\u001b[39m\u001b[38;5;124mi\u001b[39m\u001b[38;5;124m'\u001b[39m,np\u001b[38;5;241m.\u001b[39marray(X_tr[\u001b[38;5;241m2\u001b[39m] ,dtype\u001b[38;5;241m=\u001b[39mnp\u001b[38;5;241m.\u001b[39muint8))\n\u001b[0;32m      2\u001b[0m cv2\u001b[38;5;241m.\u001b[39mwaitKey(\u001b[38;5;241m0\u001b[39m)\n\u001b[1;32m----> 3\u001b[0m \u001b[43mcv2\u001b[49m\u001b[38;5;241;43m.\u001b[39;49m\u001b[43mdestroyWindow\u001b[49m\u001b[43m(\u001b[49m\u001b[38;5;124;43m'\u001b[39;49m\u001b[38;5;124;43mi\u001b[39;49m\u001b[38;5;124;43m'\u001b[39;49m\u001b[43m)\u001b[49m\n",
      "\u001b[1;31merror\u001b[0m: OpenCV(4.7.0) D:\\a\\opencv-python\\opencv-python\\opencv\\modules\\highgui\\src\\window_w32.cpp:1261: error: (-27:Null pointer) NULL window: 'i' in function 'cvDestroyWindow'\n"
     ]
    }
   ],
   "source": [
    "cv2.imshow('i',np.array(X_tr[2] ,dtype=np.uint8))\n",
    "cv2.waitKey(0)\n",
    "cv2.destroyWindow('i')"
   ]
  },
  {
   "cell_type": "code",
   "execution_count": 11,
   "id": "fcfc41dd",
   "metadata": {},
   "outputs": [
    {
     "data": {
      "text/plain": [
       "3"
      ]
     },
     "execution_count": 11,
     "metadata": {},
     "output_type": "execute_result"
    }
   ],
   "source": [
    "#q1\n",
    "number_of_color_channels=X_tr[0].shape[2]\n",
    "number_of_color_channels"
   ]
  },
  {
   "cell_type": "code",
   "execution_count": 14,
   "id": "3050a819",
   "metadata": {},
   "outputs": [
    {
     "data": {
      "text/plain": [
       "(14034, 128, 128, 3)"
      ]
     },
     "execution_count": 14,
     "metadata": {},
     "output_type": "execute_result"
    }
   ],
   "source": [
    "#q2\n",
    "X_tr = np.array(X_tr)\n",
    "y_tr = np.array(y_tr)\n",
    "X_tr.shape"
   ]
  },
  {
   "cell_type": "code",
   "execution_count": 16,
   "id": "f1bb9439",
   "metadata": {},
   "outputs": [
    {
     "data": {
      "text/plain": [
       "(14034,)"
      ]
     },
     "execution_count": 16,
     "metadata": {},
     "output_type": "execute_result"
    }
   ],
   "source": [
    "y_tr.shape"
   ]
  },
  {
   "cell_type": "code",
   "execution_count": 18,
   "id": "3f182ddc",
   "metadata": {},
   "outputs": [],
   "source": [
    "\"\"\"#scaling \n",
    "dsize = (1,1)\n",
    "for x in range(len(X_tr)):\n",
    "    X_tr[x] = cv2.resize(X_tr[x], dsize, interpolation = cv2.INTER_AREA)\n",
    "\"\"\"    "
   ]
  },
  {
   "cell_type": "code",
   "execution_count": 20,
   "id": "d7f24b4f",
   "metadata": {},
   "outputs": [
    {
     "ename": "error",
     "evalue": "OpenCV(4.7.0) D:\\a\\opencv-python\\opencv-python\\opencv\\modules\\highgui\\src\\window_w32.cpp:1261: error: (-27:Null pointer) NULL window: 'i' in function 'cvDestroyWindow'\n",
     "output_type": "error",
     "traceback": [
      "\u001b[1;31m---------------------------------------------------------------------------\u001b[0m",
      "\u001b[1;31merror\u001b[0m                                     Traceback (most recent call last)",
      "Cell \u001b[1;32mIn[20], line 3\u001b[0m\n\u001b[0;32m      1\u001b[0m cv2\u001b[38;5;241m.\u001b[39mimshow(\u001b[38;5;124m'\u001b[39m\u001b[38;5;124mi\u001b[39m\u001b[38;5;124m'\u001b[39m,np\u001b[38;5;241m.\u001b[39marray(X_tr[\u001b[38;5;241m1\u001b[39m] ,dtype\u001b[38;5;241m=\u001b[39mnp\u001b[38;5;241m.\u001b[39muint8))\n\u001b[0;32m      2\u001b[0m cv2\u001b[38;5;241m.\u001b[39mwaitKey(\u001b[38;5;241m0\u001b[39m)\n\u001b[1;32m----> 3\u001b[0m \u001b[43mcv2\u001b[49m\u001b[38;5;241;43m.\u001b[39;49m\u001b[43mdestroyWindow\u001b[49m\u001b[43m(\u001b[49m\u001b[38;5;124;43m'\u001b[39;49m\u001b[38;5;124;43mi\u001b[39;49m\u001b[38;5;124;43m'\u001b[39;49m\u001b[43m)\u001b[49m\n",
      "\u001b[1;31merror\u001b[0m: OpenCV(4.7.0) D:\\a\\opencv-python\\opencv-python\\opencv\\modules\\highgui\\src\\window_w32.cpp:1261: error: (-27:Null pointer) NULL window: 'i' in function 'cvDestroyWindow'\n"
     ]
    }
   ],
   "source": [
    "cv2.imshow('i',np.array(X_tr[1] ,dtype=np.uint8))\n",
    "cv2.waitKey(0)\n",
    "cv2.destroyWindow('i')"
   ]
  },
  {
   "cell_type": "code",
   "execution_count": 8,
   "id": "fafa5f42",
   "metadata": {},
   "outputs": [],
   "source": [
    "import numpy as np\n",
    "\n",
    "import torch\n",
    "import torch.nn as nn\n",
    "import torch.optim as optim\n",
    "\n",
    "class CustomMLP(nn.Module):\n",
    "    \"\"\" A PyTorch neural network model \"\"\"\n",
    "    def __init__(self, n_hidden=30, epochs=100, eta=0.05, minibatch_size=50):\n",
    "        super(CustomMLP, self).__init__()\n",
    "        self.n_hidden = n_hidden  # hidden layer size\n",
    "        self.epochs = epochs  # number of learning iterations\n",
    "        self.eta = eta  # learning rate\n",
    "        self.minibatch_size = minibatch_size  # size of training batch - 1 would not work\n",
    "        self.fc1, self.fc2, self.fc3 = None, None, None\n",
    "\n",
    "    def _forward(self, X, apply_softmax=False):\n",
    "        assert self.fc1 != None\n",
    "        X = nn.functional.relu(self.fc1(X))\n",
    "        X = nn.functional.relu(self.fc2(X))\n",
    "        X = self.fc3(X)\n",
    "        if apply_softmax:\n",
    "            X = nn.functional.softmax(X, dim=1)\n",
    "        return X\n",
    "\n",
    "    def _reset(self):\n",
    "        for m in self.modules():\n",
    "            if isinstance(m, nn.Linear):\n",
    "                 m.reset_parameters()\n",
    "\n",
    "    def predict(self, _X):\n",
    "        assert self.fc1 is not None\n",
    "        _X=torch.tensor(_X)\n",
    "        net_out = self._forward(_X, apply_softmax=True)\n",
    "        p_values, indices = net_out.max(dim=1)\n",
    "        return indices\n",
    "\n",
    "    def fit(self, X_train, y_train):\n",
    "        # Convert to tensors\n",
    "        X_train, y_train = torch.tensor(X_train), torch.tensor(y_train)\n",
    "        \n",
    "        self._reset()  # Reset the neural network weights\n",
    "        n_output= np.unique(y_train).shape[0]  # number of class labels\n",
    "        n_features= X_train.shape[1]\n",
    "\n",
    "        self.fc1 = nn.Linear(n_features, self.n_hidden)  # A simple input layer\n",
    "        self.fc2 = nn.Linear(self.n_hidden, self.n_hidden)  # A simple hidden layer\n",
    "        self.fc3 = nn.Linear(self.n_hidden, n_output)  # A simple output layer\n",
    "        \n",
    "        optimizer = optim.SGD(self.parameters(), lr=self.eta, momentum=0.9)\n",
    "        loss_func = nn.CrossEntropyLoss()\n",
    "\n",
    "        for _ in range(self.epochs):\n",
    "            indices = np.arange(X_train.shape[0])\n",
    "            \n",
    "            for start_idx in range(0, indices.shape[0] - self.minibatch_size + 1, self.minibatch_size):\n",
    "                batch_idx = indices[start_idx:start_idx + self.minibatch_size]\n",
    "                optimizer.zero_grad()\n",
    "                \n",
    "                net_out = self._forward(X_train[batch_idx])\n",
    "                \n",
    "                loss = loss_func(net_out, y_train[batch_idx])\n",
    "                loss.backward()\n",
    "                optimizer.step()"
   ]
  },
  {
   "cell_type": "code",
   "execution_count": null,
   "id": "64985e59",
   "metadata": {},
   "outputs": [],
   "source": [
    "%%time\n",
    "\n",
    "clf = CustomMLP()\n",
    "\n",
    "acc = kfold_eval_docs(clf, torch.tensor(X_tfidf), torch.tensor(y_tfidf))\n",
    "\n",
    "print(f\"PyTorch Feedforward NN 10-fold CV accuracy= {np.mean(acc):.2f} {chr(177)}{np.std(acc):.3f}\")"
   ]
  },
  {
   "cell_type": "code",
   "execution_count": null,
   "id": "73bea576",
   "metadata": {},
   "outputs": [],
   "source": []
  }
 ],
 "metadata": {
  "kernelspec": {
   "display_name": "Python 3 (ipykernel)",
   "language": "python",
   "name": "python3"
  },
  "language_info": {
   "codemirror_mode": {
    "name": "ipython",
    "version": 3
   },
   "file_extension": ".py",
   "mimetype": "text/x-python",
   "name": "python",
   "nbconvert_exporter": "python",
   "pygments_lexer": "ipython3",
   "version": "3.9.16"
  }
 },
 "nbformat": 4,
 "nbformat_minor": 5
}
